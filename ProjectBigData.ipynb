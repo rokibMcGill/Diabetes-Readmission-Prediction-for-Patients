{
 "cells": [
  {
   "cell_type": "code",
   "execution_count": 110,
   "metadata": {},
   "outputs": [],
   "source": [
    "import pandas as pd\n",
    "import numpy as np\n",
    "import seaborn as sn\n",
    "import matplotlib.pyplot as plt\n",
    "import sklearn.preprocessing\n",
    "from pandas.plotting import scatter_matrix\n",
    "from sklearn.model_selection import train_test_split\n",
    "from sklearn.linear_model import LogisticRegression\n",
    "from sklearn.ensemble import RandomForestClassifier\n",
    "from sklearn.tree import DecisionTreeClassifier\n",
    "from sklearn.neural_network import MLPClassifier\n",
    "from sklearn.metrics import f1_score, accuracy_score, precision_score, recall_score\n",
    "from sklearn.metrics import confusion_matrix"
   ]
  },
  {
   "cell_type": "code",
   "execution_count": 2,
   "metadata": {},
   "outputs": [
    {
     "name": "stdout",
     "output_type": "stream",
     "text": [
      "101766\n"
     ]
    }
   ],
   "source": [
    "df = pd.read_csv('/dataset_diabetes/diabetic_data.csv')\n",
    "# check missing values\n",
    "df = df.replace('?',np.nan)\n",
    "# df[df.columns].isnull().sum() \n",
    "# df.info()\n",
    "print(len(df))"
   ]
  },
  {
   "cell_type": "code",
   "execution_count": 3,
   "metadata": {},
   "outputs": [
    {
     "name": "stdout",
     "output_type": "stream",
     "text": [
      "71518\n"
     ]
    }
   ],
   "source": [
    "# remove impatient visit\n",
    "df = df.groupby('patient_nbr').first()\n",
    "print(len(df))"
   ]
  },
  {
   "cell_type": "code",
   "execution_count": 4,
   "metadata": {},
   "outputs": [
    {
     "name": "stdout",
     "output_type": "stream",
     "text": [
      "69973\n"
     ]
    }
   ],
   "source": [
    "# remove sample about death or hospic\n",
    "df = df.loc[~df['discharge_disposition_id'].isin([11,13,14,19,20,21])]\n",
    "print(len(df))"
   ]
  },
  {
   "cell_type": "code",
   "execution_count": 1407,
   "metadata": {},
   "outputs": [
    {
     "name": "stdout",
     "output_type": "stream",
     "text": [
      "Feature and unique values: encounter_id, 69973, int64\n",
      "Feature and unique values: race, 6, object\n",
      "Feature and unique values: gender, 3, object\n",
      "Feature and unique values: age, 10, object\n",
      "Feature and unique values: weight, 10, object\n",
      "Feature and unique values: admission_type_id, 8, int64\n",
      "Feature and unique values: discharge_disposition_id, 21, int64\n",
      "Feature and unique values: admission_source_id, 17, int64\n",
      "Feature and unique values: time_in_hospital, 14, int64\n",
      "Feature and unique values: payer_code, 18, object\n",
      "Feature and unique values: medical_specialty, 71, object\n",
      "Feature and unique values: num_lab_procedures, 116, int64\n",
      "Feature and unique values: num_procedures, 7, int64\n",
      "Feature and unique values: num_medications, 75, int64\n",
      "Feature and unique values: number_outpatient, 33, int64\n",
      "Feature and unique values: number_emergency, 18, int64\n",
      "Feature and unique values: number_inpatient, 13, int64\n",
      "Feature and unique values: diag_1, 695, object\n",
      "Feature and unique values: diag_2, 724, object\n",
      "Feature and unique values: diag_3, 757, object\n",
      "Feature and unique values: number_diagnoses, 16, int64\n",
      "Feature and unique values: max_glu_serum, 4, object\n",
      "Feature and unique values: A1Cresult, 4, object\n",
      "Feature and unique values: metformin, 4, object\n",
      "Feature and unique values: repaglinide, 4, object\n",
      "Feature and unique values: nateglinide, 4, object\n",
      "Feature and unique values: chlorpropamide, 4, object\n",
      "Feature and unique values: glimepiride, 4, object\n",
      "Feature and unique values: acetohexamide, 2, object\n",
      "Feature and unique values: glipizide, 4, object\n",
      "Feature and unique values: glyburide, 4, object\n",
      "Feature and unique values: tolbutamide, 2, object\n",
      "Feature and unique values: pioglitazone, 4, object\n",
      "Feature and unique values: rosiglitazone, 4, object\n",
      "Feature and unique values: acarbose, 3, object\n",
      "Feature and unique values: miglitol, 4, object\n",
      "Feature and unique values: troglitazone, 2, object\n",
      "Feature and unique values: tolazamide, 2, object\n",
      "Feature and unique values: examide, 1, object\n",
      "Feature and unique values: citoglipton, 1, object\n",
      "Feature and unique values: insulin, 4, object\n",
      "Feature and unique values: glyburide-metformin, 4, object\n",
      "Feature and unique values: glipizide-metformin, 2, object\n",
      "Feature and unique values: glimepiride-pioglitazone, 1, object\n",
      "Feature and unique values: metformin-rosiglitazone, 2, object\n",
      "Feature and unique values: metformin-pioglitazone, 2, object\n",
      "Feature and unique values: change, 2, object\n",
      "Feature and unique values: diabetesMed, 2, object\n",
      "Feature and unique values: readmitted, 3, object\n"
     ]
    }
   ],
   "source": [
    "# no unique values in each feature\n",
    "for c in list(df.columns[:]):\n",
    "    d = df[c]\n",
    "    n = d.unique()\n",
    "    print('Feature and unique values: ' + c + ', ' +str(len(n)) + ', ' + str(d.dtypes))"
   ]
  },
  {
   "cell_type": "code",
   "execution_count": 5,
   "metadata": {},
   "outputs": [],
   "source": [
    "# convert Categorial value into numerical value\n",
    "labelencoder = sklearn.preprocessing.LabelEncoder()\n",
    "for c in list(df.columns[1:]):\n",
    "    d = df[c]\n",
    "    if d.dtypes == 'object':\n",
    "        if d.isnull().sum() == 0:     # if No missing value and Object\n",
    "            if len(d.unique()) < 40:  # if \n",
    "                df[c] = labelencoder.fit_transform(d)\n",
    "            else:\n",
    "                de = labelencoder.fit_transform(d)\n",
    "                dc = pd.cut(de, 40)\n",
    "                df[c] = labelencoder.fit_transform(dc)       \n",
    "        else:  # If missing value and Object\n",
    "            if len(d.unique()) < 40:   \n",
    "                df[c] = d.fillna(str(0))\n",
    "                df[c] = labelencoder.fit_transform(d)\n",
    "            else:\n",
    "                de = d.fillna(str(0))\n",
    "                de = labelencoder.fit_transform(de)\n",
    "                dc = pd.cut(de, 40)\n",
    "                df[c] = labelencoder.fit_transform(dc)\n",
    "    else:\n",
    "        if d.isnull().sum() == 0:     # if No missing value \n",
    "            if len(d.unique()) > 40:  #  \n",
    "                dc = pd.cut(de, 40)\n",
    "                df[c] = labelencoder.fit_transform(dc)       \n",
    "        else:  # If missing value\n",
    "            if len(d.unique()) > 40:\n",
    "                dc = pd.cut(de, 40)\n",
    "                df[c] = labelencoder.fit_transform(dc)\n",
    "# df.head()"
   ]
  },
  {
   "cell_type": "code",
   "execution_count": 6,
   "metadata": {},
   "outputs": [
    {
     "data": {
      "text/plain": [
       "2    41474\n",
       "1    22222\n",
       "0     6277\n",
       "Name: readmitted, dtype: int64"
      ]
     },
     "execution_count": 6,
     "metadata": {},
     "output_type": "execute_result"
    }
   ],
   "source": [
    "df['readmitted'].value_counts()"
   ]
  },
  {
   "cell_type": "code",
   "execution_count": 7,
   "metadata": {},
   "outputs": [
    {
     "data": {
      "text/plain": [
       "2    41474\n",
       "1    37326\n",
       "0    37326\n",
       "Name: readmitted, dtype: int64"
      ]
     },
     "execution_count": 7,
     "metadata": {},
     "output_type": "execute_result"
    }
   ],
   "source": [
    "# remsample to make data balance\n",
    "from sklearn.utils import resample\n",
    "df_0 = df[df.readmitted==0]\n",
    "df_1 = df[df.readmitted==1]\n",
    "df_2 = df[df.readmitted==2]\n",
    "no_sample_0 = int(0.9*len(df_2))\n",
    "no_sample_1 = int(0.9*len(df_2))\n",
    "\n",
    "df_0_upsampled = resample(df_0,\n",
    "                          replace=True,     \n",
    "                          n_samples=no_sample_0,  \n",
    "                          random_state=123) \n",
    "\n",
    "df_1_upsampled = resample(df_1,\n",
    "                          replace=True,   \n",
    "                          n_samples=no_sample_1,  \n",
    "                          random_state=123) \n",
    "\n",
    "df_2_upsampled = resample(df_2,\n",
    "                          replace=True,     \n",
    "                          n_samples=len(df_1),  \n",
    "                          random_state=123) \n",
    "\n",
    "df_upsampled = pd.concat([df_0_upsampled, df_1_upsampled, df_2])  # Oversample\n",
    "# df_upsampled = pd.concat([df_0, df_1, df_2_upsampled])  # Undersample\n",
    "df_upsampled['readmitted'].value_counts()"
   ]
  },
  {
   "cell_type": "code",
   "execution_count": 242,
   "metadata": {},
   "outputs": [],
   "source": [
    "# K-fold Cross Validation to find best parameter for models\n",
    "from sklearn.model_selection import GridSearchCV, cross_val_score\n",
    "def k_Fold_CV(x, y):\n",
    "    param_grid_lg = {'multi_class': ['multinomial'], 'solver':['newton-cg', 'sag', 'saga','lbfgs']}\n",
    "    param_grid_dt = {'max_depth': [10, 20, 30]}\n",
    "    param_grid_rdf = {'n_estimators': [50, 100], 'max_depth': [10, 20, 30]}\n",
    "\n",
    "    models = [('LG', LogisticRegression(), param_grid_lg), \n",
    "              ('DT', DecisionTreeClassifier(), param_grid_dt),\n",
    "              ('RDF', RandomForestClassifier(), param_grid_rdf)]\n",
    "    best_cv_score = []\n",
    "    mean_cv_score = []\n",
    "\n",
    "    for name, model, param_grid in models:\n",
    "        grid_cv = GridSearchCV(model, param_grid, cv=5).fit(x, y)\n",
    "        print(\"Best parameters for : \", name, \" is \", grid_cv.best_params_)\n",
    "        print(\"%.1f%% accuracy on validation sets (average)\" % (grid_cv.best_score_*100))\n",
    "        best_cv_score.append(grid_cv.best_score_)\n",
    "        ac_score = cross_val_score(model, x, y, cv=5, scoring='accuracy')\n",
    "        mean_cv_score.append(ac_score.mean())\n",
    "    return best_cv_score, mean_cv_score\n"
   ]
  },
  {
   "cell_type": "code",
   "execution_count": 9,
   "metadata": {},
   "outputs": [],
   "source": [
    "def model_logistic(X_train, X_test, y_train, y_test):\n",
    "    model = LogisticRegression(multi_class='multinomial',solver ='newton-cg').fit(X_train,y_train)\n",
    "    accuracy_train = model.score(X_train, y_train)\n",
    "    accuracy_test = model.score(X_test, y_test)\n",
    "    return model, accuracy_train, accuracy_test"
   ]
  },
  {
   "cell_type": "code",
   "execution_count": 308,
   "metadata": {},
   "outputs": [],
   "source": [
    "def model_randomForest(X_train, X_test, y_train, y_test):\n",
    "    model = RandomForestClassifier(n_estimators=100,max_depth = 30).fit(X_train,y_train)\n",
    "    accuracy_train = model.score(X_train, y_train)\n",
    "    accuracy_test = model.score(X_test, y_test)\n",
    "    return model, accuracy_train, accuracy_test"
   ]
  },
  {
   "cell_type": "code",
   "execution_count": 313,
   "metadata": {},
   "outputs": [],
   "source": [
    "def model_DecisionTree(X_train, X_test, y_train, y_test):\n",
    "    model = DecisionTreeClassifier(max_depth = 30).fit(X_train,y_train)\n",
    "    accuracy_train = model.score(X_train, y_train)\n",
    "    accuracy_test = model.score(X_test, y_test)\n",
    "    return model, accuracy_train, accuracy_test"
   ]
  },
  {
   "cell_type": "code",
   "execution_count": 225,
   "metadata": {},
   "outputs": [],
   "source": [
    "# Featuer importace plot for logistic regerssion\n",
    "def plot_importance_lg(model, features):\n",
    "    feature_importances = pd.DataFrame(model.coef_[0]+model.coef_[1], \n",
    "                                       index = features, columns=['importance']).sort_values('importance', ascending=False)\n",
    "    num = len(feature_importances)\n",
    "    ylocs = np.arange(num)\n",
    "    values_to_plot = feature_importances.iloc[:num].values.ravel()[::-1]\n",
    "    feature_labels = list(feature_importances.iloc[:num].index)[::-1]\n",
    "\n",
    "    plt.figure(num=None, figsize=(8, 15), dpi=80, facecolor='w', edgecolor='k');\n",
    "    plt.barh(ylocs, values_to_plot, align = 'center')\n",
    "    plt.ylabel('Features')\n",
    "    plt.xlabel('Importance Score')\n",
    "    plt.title('Feature Importance Score - Logistic Regression')\n",
    "    plt.yticks(ylocs, feature_labels)\n",
    "    plt.show()"
   ]
  },
  {
   "cell_type": "code",
   "execution_count": 226,
   "metadata": {},
   "outputs": [],
   "source": [
    "# Featuer importace plot for Randdom Forest\n",
    "def plot_importance_rdf(model, features):\n",
    "    feature_importances = pd.DataFrame(model.feature_importances_,\n",
    "                                   index = features,columns=['importance']).sort_values('importance',ascending=False)\n",
    "    num = len(feature_importances)\n",
    "    ylocs = np.arange(num)\n",
    "    values_to_plot = feature_importances.iloc[:num].values.ravel()[::-1]\n",
    "    feature_labels = list(feature_importances.iloc[:num].index)[::-1]\n",
    "\n",
    "    plt.figure(num=None, figsize=(8, 15), dpi=80, facecolor='w', edgecolor='k');\n",
    "    plt.barh(ylocs, values_to_plot, align = 'center')\n",
    "    plt.ylabel('Features')\n",
    "    plt.xlabel('Importance Score')\n",
    "    plt.title('Feature Importance Score - RandomForest')\n",
    "    plt.yticks(ylocs, feature_labels)\n",
    "    plt.show()"
   ]
  },
  {
   "cell_type": "code",
   "execution_count": 227,
   "metadata": {},
   "outputs": [],
   "source": [
    "def plot_correlation_matrix(data):\n",
    "    corrMatrix = data.corr()\n",
    "    sn.heatmap(corrMatrix, annot=True)\n",
    "    plt.show()"
   ]
  },
  {
   "cell_type": "code",
   "execution_count": 228,
   "metadata": {},
   "outputs": [],
   "source": [
    "# calculate accurecy\n",
    "def calculate_accurecy(y_true, y_pred):   \n",
    "    accuracy = accuracy_score(y_true, y_pred)\n",
    "    recall = recall_score(y_true, y_pred, average='weighted')\n",
    "    precision = precision_score(y_true, y_pred, average='weighted')\n",
    "    F1 = 2*(precision*recall)/(precision+recall)\n",
    "    \n",
    "    print('accuracy:%.3f'%accuracy)\n",
    "    print('recall:%.3f'%recall)\n",
    "    print('precision:%.3f'%precision)\n",
    "    print('F1:%.3f'%F1)\n",
    "    return accuracy, recall, precision, F1"
   ]
  },
  {
   "cell_type": "code",
   "execution_count": 325,
   "metadata": {},
   "outputs": [
    {
     "data": {
      "text/plain": [
       "2    12410\n",
       "1     6692\n",
       "0     1890\n",
       "Name: readmitted, dtype: int64"
      ]
     },
     "execution_count": 325,
     "metadata": {},
     "output_type": "execute_result"
    }
   ],
   "source": [
    "# feature \n",
    "features = ['race', 'gender', 'age', 'admission_type_id',\n",
    "            'discharge_disposition_id', 'admission_source_id', 'time_in_hospital',\n",
    "            'num_lab_procedures', 'num_procedures', 'num_medications', 'number_outpatient',\n",
    "            'number_emergency', 'number_inpatient', 'diag_1', 'diag_2', 'diag_3',\n",
    "            'number_diagnoses', 'max_glu_serum', 'A1Cresult', 'metformin',\n",
    "            'repaglinide', 'nateglinide', 'chlorpropamide', 'glimepiride',\n",
    "            'acetohexamide', 'glipizide', 'glyburide', 'tolbutamide',\n",
    "            'pioglitazone', 'rosiglitazone', 'acarbose', 'miglitol', 'troglitazone',\n",
    "            'tolazamide', 'insulin', 'glyburide-metformin', 'glipizide-metformin', \n",
    "            'metformin-rosiglitazone', 'metformin-pioglitazone', 'change', 'diabetesMed']\n",
    "\n",
    "## without resample\n",
    "X = df[features]\n",
    "y = df['readmitted']\n",
    "\n",
    "## with resample\n",
    "# X = df_upsampled[features]\n",
    "# y = df_upsampled['readmitted']\n",
    "\n",
    "## Data split into train and test\n",
    "X_train, X_test, y_train, y_test = train_test_split(X, y, test_size=0.3, random_state=0)\n",
    "## Data scaling\n",
    "scaler = sklearn.preprocessing.StandardScaler()\n",
    "# scaler = sklearn.preprocessing.RobustScaler()\n",
    "# scaler = sklearn.preprocessing.MinMaxScaler()\n",
    "X_train = scaler.fit_transform(X_train)\n",
    "X_test = scaler.transform(X_test)\n",
    "y_test.value_counts()"
   ]
  },
  {
   "cell_type": "code",
   "execution_count": 246,
   "metadata": {},
   "outputs": [
    {
     "name": "stdout",
     "output_type": "stream",
     "text": [
      "Best parameters for :  LG  is  {'multi_class': 'multinomial', 'solver': 'newton-cg'}\n",
      "59.5% accuracy on validation sets (average)\n",
      "Best parameters for :  DT  is  {'max_depth': 10}\n",
      "58.3% accuracy on validation sets (average)\n",
      "Best parameters for :  RDF  is  {'max_depth': 10, 'n_estimators': 50}\n",
      "59.2% accuracy on validation sets (average)\n"
     ]
    },
    {
     "data": {
      "text/plain": [
       "([0.5953867920483615, 0.5832392494247781, 0.5921569748331499],\n",
       " [0.5946155758637666, 0.4762259034554776, 0.5397507136181176])"
      ]
     },
     "execution_count": 246,
     "metadata": {},
     "output_type": "execute_result"
    }
   ],
   "source": [
    "# K-fold cross validation-check\n",
    "from  warnings import simplefilter\n",
    "from sklearn.exceptions import ConvergenceWarning\n",
    "simplefilter(action='ignore', category=ConvergenceWarning)\n",
    "simplefilter(action='ignore', category=FutureWarning)\n",
    "\n",
    "k_Fold_CV(scaler.fit_transform(X), y)"
   ]
  },
  {
   "cell_type": "code",
   "execution_count": 233,
   "metadata": {},
   "outputs": [],
   "source": [
    "cor_fe = ['number_inpatient', 'number_diagnoses', 'diabetesMed', 'time_in_hospital', \n",
    "          'age', 'admission_type_id', 'race', 'discharge_disposition_id', 'readmitted']\n",
    "# plot_correlation_matrix(df[cor_fe])"
   ]
  },
  {
   "cell_type": "code",
   "execution_count": 326,
   "metadata": {},
   "outputs": [
    {
     "name": "stdout",
     "output_type": "stream",
     "text": [
      "0.6019068618443887 0.5997522865853658\n"
     ]
    }
   ],
   "source": [
    "model_lg, accuracy_train, accuracy_test = model_logistic(X_train, X_test, y_train, y_test)\n",
    "print(accuracy_train, accuracy_test)"
   ]
  },
  {
   "cell_type": "code",
   "execution_count": 320,
   "metadata": {},
   "outputs": [],
   "source": [
    "def ConfusionMatrix(y_true, y_pred, title):\n",
    "    cm = confusion_matrix(y_true, y_pred)\n",
    "    cm_df = pd.DataFrame(cm,['<30', '>30','NO'], ['<30', '>30','NO'])                      \n",
    "    f, ax = plt.subplots(figsize=(6, 4))\n",
    "    sn.heatmap(cm_df, annot=True, fmt=\"d\")\n",
    "    ax.set_title(title)\n",
    "    ax.set_ylabel('True label')\n",
    "    ax.set_xlabel('Predicted label')\n",
    "    ax.xaxis.set_ticks_position('top')\n",
    "    ax.xaxis.set_label_position('top')"
   ]
  },
  {
   "cell_type": "code",
   "execution_count": 327,
   "metadata": {
    "scrolled": true
   },
   "outputs": [
    {
     "data": {
      "image/png": "[encoded data removed]",
      "text/plain": [
       "<Figure size 432x288 with 2 Axes>"
      ]
     },
     "metadata": {
      "needs_background": "light"
     },
     "output_type": "display_data"
    }
   ],
   "source": [
    "y_pred = model_lg.predict(X_test)\n",
    "title = \"Confusion Matrix (Logistic Regression)\"\n",
    "ConfusionMatrix(y_test, y_pred, title)"
   ]
  },
  {
   "cell_type": "code",
   "execution_count": 328,
   "metadata": {},
   "outputs": [
    {
     "name": "stdout",
     "output_type": "stream",
     "text": [
      "accuracy:0.602\n",
      "recall:0.602\n",
      "precision:0.545\n",
      "F1:0.572\n"
     ]
    },
    {
     "data": {
      "text/plain": [
       "(0.6019068618443887,\n",
       " 0.6019068618443887,\n",
       " 0.5447556496831395,\n",
       " 0.5719070088651937)"
      ]
     },
     "execution_count": 328,
     "metadata": {},
     "output_type": "execute_result"
    }
   ],
   "source": [
    "# Training Error for LG\n",
    "y_pred = model_lg.predict(X_train)\n",
    "calculate_accurecy(y_train, y_pred)"
   ]
  },
  {
   "cell_type": "code",
   "execution_count": 329,
   "metadata": {},
   "outputs": [
    {
     "name": "stdout",
     "output_type": "stream",
     "text": [
      "accuracy:0.600\n",
      "recall:0.600\n",
      "precision:0.546\n",
      "F1:0.572\n"
     ]
    },
    {
     "data": {
      "text/plain": [
       "(0.5997522865853658,\n",
       " 0.5997522865853658,\n",
       " 0.5462851998687357,\n",
       " 0.5717715199050594)"
      ]
     },
     "execution_count": 329,
     "metadata": {},
     "output_type": "execute_result"
    }
   ],
   "source": [
    "# Test Error for LG\n",
    "y_pred = model_lg.predict(X_test)\n",
    "calculate_accurecy(y_test, y_pred)"
   ]
  },
  {
   "cell_type": "code",
   "execution_count": 35,
   "metadata": {},
   "outputs": [],
   "source": [
    "# plot_importance_lg(model_lg, features)"
   ]
  },
  {
   "cell_type": "code",
   "execution_count": 330,
   "metadata": {},
   "outputs": [
    {
     "name": "stdout",
     "output_type": "stream",
     "text": [
      "0.9961413609358731 0.6085175304878049\n"
     ]
    }
   ],
   "source": [
    "model_rdf, accuracy_train, accuracy_test = model_randomForest(X_train, X_test, y_train, y_test)\n",
    "print(accuracy_train, accuracy_test)"
   ]
  },
  {
   "cell_type": "code",
   "execution_count": 331,
   "metadata": {},
   "outputs": [
    {
     "data": {
      "image/png": "[encoded data removed]",
      "text/plain": [
       "<Figure size 432x288 with 2 Axes>"
      ]
     },
     "metadata": {
      "needs_background": "light"
     },
     "output_type": "display_data"
    }
   ],
   "source": [
    "y_pred = model_rdf.predict(X_test)\n",
    "title = \"Confusion Matrix (Random Forest)\"\n",
    "ConfusionMatrix(y_test, y_pred, title)"
   ]
  },
  {
   "cell_type": "code",
   "execution_count": 332,
   "metadata": {},
   "outputs": [
    {
     "name": "stdout",
     "output_type": "stream",
     "text": [
      "accuracy:0.996\n",
      "recall:0.996\n",
      "precision:0.996\n",
      "F1:0.996\n"
     ]
    },
    {
     "data": {
      "text/plain": [
       "(0.9961413609358731,\n",
       " 0.9961413609358731,\n",
       " 0.9961643652644839,\n",
       " 0.9961528629673678)"
      ]
     },
     "execution_count": 332,
     "metadata": {},
     "output_type": "execute_result"
    }
   ],
   "source": [
    "# Training Error\n",
    "y_pred = model_rdf.predict(X_train)\n",
    "calculate_accurecy(y_train, y_pred)"
   ]
  },
  {
   "cell_type": "code",
   "execution_count": 333,
   "metadata": {},
   "outputs": [
    {
     "name": "stdout",
     "output_type": "stream",
     "text": [
      "accuracy:0.609\n",
      "recall:0.609\n",
      "precision:0.568\n",
      "F1:0.588\n"
     ]
    },
    {
     "data": {
      "text/plain": [
       "(0.6085175304878049,\n",
       " 0.6085175304878049,\n",
       " 0.5681289923384585,\n",
       " 0.5876300906170615)"
      ]
     },
     "execution_count": 333,
     "metadata": {},
     "output_type": "execute_result"
    }
   ],
   "source": [
    "# Test Error\n",
    "y_pred = model_rdf.predict(X_test)\n",
    "calculate_accurecy(y_test, y_pred)"
   ]
  },
  {
   "cell_type": "code",
   "execution_count": 36,
   "metadata": {},
   "outputs": [],
   "source": [
    "# plot_importance_rdf(model_rdf, features)"
   ]
  },
  {
   "cell_type": "code",
   "execution_count": 334,
   "metadata": {},
   "outputs": [
    {
     "name": "stdout",
     "output_type": "stream",
     "text": [
      "0.9704171005083604 0.49614138719512196\n"
     ]
    }
   ],
   "source": [
    "model_dt, accuracy_train, accuracy_test = model_DecisionTree(X_train, X_test, y_train, y_test)\n",
    "print(accuracy_train, accuracy_test)"
   ]
  },
  {
   "cell_type": "code",
   "execution_count": 335,
   "metadata": {},
   "outputs": [
    {
     "data": {
      "image/png": "[encoded data removed]",
      "text/plain": [
       "<Figure size 432x288 with 2 Axes>"
      ]
     },
     "metadata": {
      "needs_background": "light"
     },
     "output_type": "display_data"
    }
   ],
   "source": [
    "y_pred = model_dt.predict(X_test)\n",
    "title = \"Confusion Matrix (Decision Tree)\"\n",
    "ConfusionMatrix(y_test, y_pred, title)"
   ]
  },
  {
   "cell_type": "code",
   "execution_count": 336,
   "metadata": {},
   "outputs": [
    {
     "name": "stdout",
     "output_type": "stream",
     "text": [
      "accuracy:0.970\n",
      "recall:0.970\n",
      "precision:0.971\n",
      "F1:0.970\n"
     ]
    },
    {
     "data": {
      "text/plain": [
       "(0.9704171005083604,\n",
       " 0.9704171005083604,\n",
       " 0.9705686199537237,\n",
       " 0.9704928543169999)"
      ]
     },
     "execution_count": 336,
     "metadata": {},
     "output_type": "execute_result"
    }
   ],
   "source": [
    "# Training Error\n",
    "y_pred = model_dt.predict(X_train)\n",
    "calculate_accurecy(y_train, y_pred)"
   ]
  },
  {
   "cell_type": "code",
   "execution_count": 337,
   "metadata": {},
   "outputs": [
    {
     "name": "stdout",
     "output_type": "stream",
     "text": [
      "accuracy:0.496\n",
      "recall:0.496\n",
      "precision:0.498\n",
      "F1:0.497\n"
     ]
    },
    {
     "data": {
      "text/plain": [
       "(0.49614138719512196,\n",
       " 0.49614138719512196,\n",
       " 0.49792566239739355,\n",
       " 0.4970319234767096)"
      ]
     },
     "execution_count": 337,
     "metadata": {},
     "output_type": "execute_result"
    }
   ],
   "source": [
    "y_pred = model_dt.predict(X_test)\n",
    "calculate_accurecy(y_test, y_pred)"
   ]
  },
  {
   "cell_type": "code",
   "execution_count": 75,
   "metadata": {},
   "outputs": [],
   "source": [
    "# plot_importance_rdf(model_dt, features)"
   ]
  },
  {
   "cell_type": "code",
   "execution_count": null,
   "metadata": {},
   "outputs": [],
   "source": []
  }
 ],
 "metadata": {
  "kernelspec": {
   "display_name": "Python 3",
   "language": "python",
   "name": "python3"
  },
  "language_info": {
   "codemirror_mode": {
    "name": "ipython",
    "version": 3
   },
   "file_extension": ".py",
   "mimetype": "text/x-python",
   "name": "python",
   "nbconvert_exporter": "python",
   "pygments_lexer": "ipython3",
   "version": "3.7.3"
  }
 },
 "nbformat": 4,
 "nbformat_minor": 2
}
